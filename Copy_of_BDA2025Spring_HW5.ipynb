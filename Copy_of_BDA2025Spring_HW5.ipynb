{
  "nbformat": 4,
  "nbformat_minor": 0,
  "metadata": {
    "kernelspec": {
      "display_name": "Python 3",
      "language": "python",
      "name": "python3"
    },
    "language_info": {
      "codemirror_mode": {
        "name": "ipython",
        "version": 3
      },
      "file_extension": ".py",
      "mimetype": "text/x-python",
      "name": "python",
      "nbconvert_exporter": "python",
      "pygments_lexer": "ipython3",
      "version": "3.6.9"
    },
    "colab": {
      "provenance": [],
      "include_colab_link": true
    }
  },
  "cells": [
    {
      "cell_type": "markdown",
      "metadata": {
        "id": "view-in-github",
        "colab_type": "text"
      },
      "source": [
        "<a href=\"https://colab.research.google.com/github/Sulaiman29/BDA_HW5/blob/main/Copy_of_BDA2025Spring_HW5.ipynb\" target=\"_parent\"><img src=\"https://colab.research.google.com/assets/colab-badge.svg\" alt=\"Open In Colab\"/></a>"
      ]
    },
    {
      "cell_type": "markdown",
      "source": [
        "<div class=\"alert alert-block alert-info\"><b></b>\n",
        "<h1><center> <font color='black'> Homework 05</font></center></h1>\n",
        "<h2><center> <font color='black'> A/B Testing & Uplift modelling</font></center></h2>    \n",
        "<h2><center> <font color='black'> MTAT.03.319 - Business Data Analytics</font></center></h2>\n",
        "<h2><center> <font color='black'> University of Tartu</font></center></h2>\n",
        "</div>"
      ],
      "metadata": {
        "id": "noghGtl4u71J"
      }
    },
    {
      "cell_type": "markdown",
      "source": [
        "# Homework instructions\n",
        "\n",
        "- Please provide the names and student IDs of the team-members (Maximum 2 person) in the field \"Team mates\" below. If you are not working in a team please insert only your name and student ID.\n",
        "\n",
        "- Please provide code where ever applicable.\n",
        "\n",
        "- The accepted submission format is .ipynb file. If you are sharing Colab link, make sure that the privacy settings for the file is public so we can access your code.\n",
        "\n",
        "- The submission will automatically close on <font color='red'>**18 May at 23:59**</font>, so please make sure to submit before the deadline.\n",
        "\n",
        "- ONLY one of the teammates should submit the homework and in the submission description the other person's Name and Student ID must be entered. We will grade the homework and the marks and feedback is applied for both the team members. So please communicate with your team member about marks and feedback if you are submit the homework.\n",
        "\n",
        "- If a question is not clear, please ask us in Moodle ONLY.\n",
        "\n",
        "- After you have finished solving the Homework, please restart the Kernel and run all the cells to check if there is any persisting issues.\n",
        "\n",
        "- Plagiarism is <font color='red'>**PROHIBITED**</font>. Any form of plagiarism will be dealt according to the university policy (https://ut.ee/en/content/academic-fraud).\n",
        "\n",
        "- <font color='red'>**DO NOT CHANGE THE TEMPLATE**</font>\n",
        "\n",
        "- <font color='red'>**Restart the Kernel and Run all the cells once again after you are done.**</font>\n",
        "This will ensure that all the cells run without error. You will find an option in the top menu bar under Kernel tab."
      ],
      "metadata": {
        "id": "K_RWhzhrvDO6"
      }
    },
    {
      "cell_type": "markdown",
      "metadata": {
        "id": "pyvLCyxpAGW9"
      },
      "source": [
        "**<h2><font color='red'>Team mates:</font></h2>**\n",
        "\n",
        "\n",
        "<font color='red'>Name: </font>&emsp;   <font color='red'>Student ID: </font>\n",
        "\n",
        "\n",
        "<font color='red'>Name: </font>&emsp;   <font color='red'>Student ID: </font>\n",
        "\n"
      ]
    },
    {
      "cell_type": "markdown",
      "metadata": {
        "id": "Q5egu0aiAGW9"
      },
      "source": [
        "### The homework is divided into two sections and the points are distributed as below:\n",
        "<pre>\n",
        "- A/B Testing               -> 5.5 points\n",
        "- Uplift modeling           -> 5.5 points\n",
        "________________________________________________\n",
        "Total                       -> 11.0 points\n",
        "</pre>"
      ]
    },
    {
      "cell_type": "markdown",
      "metadata": {
        "id": "brw7EC-FAGW-"
      },
      "source": [
        "# 1. A/B Testing (5.5 points)\n",
        "\n",
        "\n",
        "**1.1 Use `AB_clicks.csv` data and find whether Learn, Help, and Services versions of the page compared to the Interact have significantly more (or less) clicks (compare distributions between versions). Justify the choice of the performed tests and interpret the result of the test. (1.5 points)**"
      ]
    },
    {
      "cell_type": "code",
      "metadata": {
        "id": "FsrJ_BtaAGW-"
      },
      "source": [],
      "execution_count": null,
      "outputs": []
    },
    {
      "cell_type": "markdown",
      "metadata": {
        "id": "8mrP7tZqAGW_"
      },
      "source": [
        "\n",
        "**1.2 Use two different methods to test the normality of two different versions of your choice (Connect, Help, Services,..) (2.0 points)**\n",
        "\n",
        "\n",
        "\n"
      ]
    },
    {
      "cell_type": "code",
      "metadata": {
        "id": "eRsTOYpcAGW_"
      },
      "source": [],
      "execution_count": null,
      "outputs": []
    },
    {
      "cell_type": "markdown",
      "metadata": {
        "id": "q7uphXYiAGW_"
      },
      "source": [
        "**1.3 Read about Multiple comparison problem read ([wikipedia](https://en.wikipedia.org/wiki/Multiple_comparisons_problem), [An Overview of Methods to Address the Multiple Comparison Problem](https://towardsdatascience.com/an-overview-of-methods-to-address-the-multiple-comparison-problem-310427b3ba92) or other resources). What is the problem and when we need to do something about it (describe briefly)? (1 points)**"
      ]
    },
    {
      "cell_type": "markdown",
      "metadata": {
        "id": "CaqQxLijAGXA"
      },
      "source": [
        "<font color='red'> **Answer:**"
      ]
    },
    {
      "cell_type": "markdown",
      "metadata": {
        "id": "DbdhsGiNAGXA"
      },
      "source": [
        "**1.4 Load the dataset classifier_results.csv. The dataset contains the following fields:**\n",
        "\n",
        "**Dataset** - 200 datasets retreived from [OpenML](https://www.openml.org/search?type=data) dataset directory.\n",
        "\n",
        "**Classifier** - 9 classifiers from scikit-learn\n",
        "\n",
        "**Accuracy** - The accuracy achieved after applying the classifier to the dataset\n",
        "\n",
        "\n",
        "**Is there a significant statistical difference between these classifiers ? If you were asked to continue your analysis with only a limited number of classifiers how many would you pick and why ? (1.0 points)**"
      ]
    },
    {
      "cell_type": "code",
      "metadata": {
        "id": "xZU2dA-aAGXB"
      },
      "source": [],
      "execution_count": null,
      "outputs": []
    },
    {
      "cell_type": "markdown",
      "metadata": {
        "id": "WSxbdc0iAGXB"
      },
      "source": [
        "<font color='red'> **Answer:**"
      ]
    },
    {
      "cell_type": "markdown",
      "metadata": {
        "id": "z_iPNSLUAGXB"
      },
      "source": [
        "# 2. Uplift modelling (5.5 points)\n",
        "For this task we are going to use email_marketing.csv from [MineThatData](https://blog.minethatdata.com/2008/03/minethatdata-e-mail-analytics-and-data.html). The data was recorded from a two-weeks email campaign that included 64000 customers. Out of these customers:\n",
        "1. 1/3 were randomly chosen to receive an e-mail campaign featuring Mens merchandise.\n",
        "2. 1/3 were randomly chosen to receive an e-mail campaign featuring Womens merchandise.\n",
        "3. 1/3 were randomly chosen to not receive an e-mail campaign.\n",
        "\n",
        "The features in this dataset include:\n",
        "\n",
        "- Recency: Months since last purchase.\n",
        "- History: Actual dollar value spent in the past year.\n",
        "- Mens: 1/0 indicator, 1 = customer purchased Mens merchandise in the past year.\n",
        "- Womens: 1/0 indicator, 1 = customer purchased Womens merchandise in the past year.\n",
        "- Zip_Code: Classifies zip code as Urban, Suburban, or Rural.\n",
        "- Newbie: 1/0 indicator, 1 = New customer in the past twelve months.\n",
        "- Channel: Describes the channels the customer purchased from in the past year.\n",
        "- Segment: e-mail campaign  type that the customer received\n",
        "- Visit: 1/0 indicator, 1 = Customer visited website in the following two weeks.\n",
        "- Spend: Actual dollars spent in the following two weeks.\n",
        "\n",
        "The Conversion variable is realted to the evaluation if the campaign was effective or not.\n",
        "\n",
        "- Conversion: 1/0 indicator, 1 = Customer purchased merchandise in the following two weeks.\n"
      ]
    },
    {
      "cell_type": "markdown",
      "source": [
        "**2.0 Load the dataset and provide description. (0.25 points)**"
      ],
      "metadata": {
        "id": "kfINatl_xuEa"
      }
    },
    {
      "cell_type": "code",
      "metadata": {
        "id": "asvMuGnFAGXC"
      },
      "source": [],
      "execution_count": null,
      "outputs": []
    },
    {
      "cell_type": "markdown",
      "metadata": {
        "id": "IzZGlqVYAGXD"
      },
      "source": [
        "**2.1 Use the function calc_uplift() from the practice session to calculate the current uplift of the campaign. Remeber to modify the function according to the need. (0.5 points)**"
      ]
    },
    {
      "cell_type": "code",
      "metadata": {
        "id": "Ap8p380oAGXD"
      },
      "source": [],
      "execution_count": null,
      "outputs": []
    },
    {
      "cell_type": "markdown",
      "metadata": {
        "id": "NbjH40kbAGXD"
      },
      "source": [
        "**2.2 Create a new column named target_class. Split the customers in 4 categories:**\n",
        "\n",
        "1- Treatment Responders\n",
        "\n",
        "2- Treatment Non-Responders (sleeping dogs)\n",
        "\n",
        "3- Control Responders (sure things)\n",
        "\n",
        "4-Control Non-Responders(lost causes).\n",
        "\n",
        "**Label encode these categories and store the result for each customer in the column target_class (0.5 points)**"
      ]
    },
    {
      "cell_type": "code",
      "metadata": {
        "id": "pCudxBkcAGXE"
      },
      "source": [],
      "execution_count": null,
      "outputs": []
    },
    {
      "cell_type": "markdown",
      "metadata": {
        "id": "LmzOWN_LAGXF"
      },
      "source": [
        "**2.3 Apply the necessary preprocessing to the data and split it into train and test set, using 80/20 ratio. Remember that you have to drop the columns that define the label and perform preprocessing. Build a model with your classifier of choice that will predict probabilities for the categories mentioned in 2.2. (1.5 points)**"
      ]
    },
    {
      "cell_type": "code",
      "metadata": {
        "id": "x-41XdRBAGXF"
      },
      "source": [],
      "execution_count": null,
      "outputs": []
    },
    {
      "cell_type": "markdown",
      "metadata": {
        "id": "gdoVNjw6AGXG"
      },
      "source": [
        "**2.4 Calculate the uplift score using probabilities for all customers and store the results to a new column in the dataframe (0.5 points)**"
      ]
    },
    {
      "cell_type": "code",
      "metadata": {
        "id": "Wx9PITUEAGXG"
      },
      "source": [],
      "execution_count": null,
      "outputs": []
    },
    {
      "cell_type": "markdown",
      "metadata": {
        "id": "hJGs1OFPAGXG"
      },
      "source": [
        "**2.5  Select the customers with High Uplift Score as below:**\n",
        "    \n",
        "**High Uplift Score:** Customers have uplift score > 3rd quantile\n",
        "\n",
        "**a. Calculate the ratio of the customers targeted with Womens e-mail that have high uplift score over the total customers who received emails featuring Womens merchandise. (0.5 points)**\n",
        "\n",
        "**b. Calculate the ratio of the customers targeted with Mens e-mail that have high uplift score over the total customers who received emails featuring Mens merchandise. (0.5 points)**\n",
        "\n",
        "\n",
        "**c.Which one of the campaigns would you say is more successful ? (0.5 points)**\n"
      ]
    },
    {
      "cell_type": "code",
      "metadata": {
        "id": "1tICgdfgAGXH"
      },
      "source": [],
      "execution_count": null,
      "outputs": []
    },
    {
      "cell_type": "markdown",
      "metadata": {
        "id": "DzQIPDlUAGXH"
      },
      "source": [
        "<font color='red'> **Answer C:**"
      ]
    },
    {
      "cell_type": "markdown",
      "metadata": {
        "id": "k5xdB9vxAGXH"
      },
      "source": [
        "**2.6 For customers in the segment named \"Womens e-mail\" with high uplift score calculate conversion uplift and revenue uplift. Compare it with the benchmark from excercise 2.1 and draw conclusions. (0.75 points)**"
      ]
    },
    {
      "cell_type": "code",
      "metadata": {
        "id": "7KLtrYHwAGXI"
      },
      "source": [],
      "execution_count": null,
      "outputs": []
    },
    {
      "cell_type": "markdown",
      "metadata": {
        "id": "81zo5gSsAGXI"
      },
      "source": [
        "<font color='red'> **Answer:**"
      ]
    },
    {
      "cell_type": "markdown",
      "metadata": {
        "id": "JFyyt8arAGXI"
      },
      "source": [
        "## How long did it take you to solve the homework?\n",
        "\n",
        "* Please answer as precisely as you can. It does not affect your points or grade in any way. It is okay, if it took 0.5 hours or 24 hours. The collected information will be used to improve future homeworks.\n",
        "\n",
        "<font color='red'> **Answer: X hours**</font>\n",
        "\n",
        "\n",
        "## What is the level of difficulty for this homework?\n",
        "you can put only number between $0:10$ ($0:$ easy, $10:$ difficult)\n",
        "\n",
        "<font color='red'> **Answer:**</font>\n",
        "\n",
        "## Any other comments regarding the homework?\n",
        "\n",
        "<font color='red'> **Answer:**</font>"
      ]
    },
    {
      "cell_type": "code",
      "source": [],
      "metadata": {
        "id": "1WMWKGHfuMZw"
      },
      "execution_count": null,
      "outputs": []
    }
  ]
}